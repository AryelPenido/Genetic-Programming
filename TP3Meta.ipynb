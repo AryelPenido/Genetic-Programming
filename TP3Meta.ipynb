{
  "cells": [
    {
      "cell_type": "markdown",
      "metadata": {
        "id": "view-in-github",
        "colab_type": "text"
      },
      "source": [
        "<a href=\"https://colab.research.google.com/github/AryelPenido/Genetic-Programming/blob/main/TP3Meta.ipynb\" target=\"_parent\"><img src=\"https://colab.research.google.com/assets/colab-badge.svg\" alt=\"Open In Colab\"/></a>"
      ]
    },
    {
      "cell_type": "code",
      "execution_count": null,
      "metadata": {
        "colab": {
          "base_uri": "https://localhost:8080/"
        },
        "id": "Bcg8KYnaDepy",
        "outputId": "df4a0c97-c352-430c-ac94-f0725592b0d3"
      },
      "outputs": [
        {
          "name": "stdout",
          "output_type": "stream",
          "text": [
            "Collecting deap\n",
            "  Downloading deap-1.3.1-cp37-cp37m-manylinux_2_5_x86_64.manylinux1_x86_64.manylinux_2_12_x86_64.manylinux2010_x86_64.whl (160 kB)\n",
            "\u001b[?25l\r\u001b[K     |██                              | 10 kB 26.0 MB/s eta 0:00:01\r\u001b[K     |████                            | 20 kB 26.2 MB/s eta 0:00:01\r\u001b[K     |██████                          | 30 kB 13.6 MB/s eta 0:00:01\r\u001b[K     |████████▏                       | 40 kB 10.7 MB/s eta 0:00:01\r\u001b[K     |██████████▏                     | 51 kB 7.1 MB/s eta 0:00:01\r\u001b[K     |████████████▏                   | 61 kB 7.3 MB/s eta 0:00:01\r\u001b[K     |██████████████▎                 | 71 kB 6.5 MB/s eta 0:00:01\r\u001b[K     |████████████████▎               | 81 kB 7.3 MB/s eta 0:00:01\r\u001b[K     |██████████████████▎             | 92 kB 6.4 MB/s eta 0:00:01\r\u001b[K     |████████████████████▍           | 102 kB 6.8 MB/s eta 0:00:01\r\u001b[K     |██████████████████████▍         | 112 kB 6.8 MB/s eta 0:00:01\r\u001b[K     |████████████████████████▍       | 122 kB 6.8 MB/s eta 0:00:01\r\u001b[K     |██████████████████████████▌     | 133 kB 6.8 MB/s eta 0:00:01\r\u001b[K     |████████████████████████████▌   | 143 kB 6.8 MB/s eta 0:00:01\r\u001b[K     |██████████████████████████████▌ | 153 kB 6.8 MB/s eta 0:00:01\r\u001b[K     |████████████████████████████████| 160 kB 6.8 MB/s \n",
            "\u001b[?25hRequirement already satisfied: numpy in /usr/local/lib/python3.7/dist-packages (from deap) (1.19.5)\n",
            "Installing collected packages: deap\n",
            "Successfully installed deap-1.3.1\n"
          ]
        }
      ],
      "source": [
        "pip install deap"
      ]
    },
    {
      "cell_type": "code",
      "execution_count": null,
      "metadata": {
        "id": "0ykOx4_ZDWX7"
      },
      "outputs": [],
      "source": [
        "#imports\n",
        "from deap import gp\n",
        "from deap import tools\n",
        "from deap import creator\n",
        "from deap import base\n",
        "from deap import algorithms\n",
        "from sklearn.model_selection import train_test_split\n",
        "import pandas as pd\n",
        "import numpy as np\n",
        "import deap as dp\n",
        "from pathlib import Path\n",
        "import os\n",
        "import itertools\n",
        "import operator\n",
        "import random\n",
        "import matplotlib.pyplot as plt\n",
        "import seaborn as sns"
      ]
    },
    {
      "cell_type": "code",
      "execution_count": null,
      "metadata": {
        "colab": {
          "base_uri": "https://localhost:8080/",
          "height": 72,
          "resources": {
            "http://localhost:8080/nbextensions/google.colab/files.js": {
              "data": "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",
              "headers": [
                [
                  "content-type",
                  "application/javascript"
                ]
              ],
              "ok": true,
              "status": 200,
              "status_text": ""
            }
          }
        },
        "id": "_nfRJ4435c22",
        "outputId": "03d20f95-04a1-4971-d2ff-5d92f76e2c97"
      },
      "outputs": [
        {
          "data": {
            "text/html": [
              "\n",
              "     <input type=\"file\" id=\"files-07f50686-9392-48d5-8c22-c6aecb3faa36\" name=\"files[]\" multiple disabled\n",
              "        style=\"border:none\" />\n",
              "     <output id=\"result-07f50686-9392-48d5-8c22-c6aecb3faa36\">\n",
              "      Upload widget is only available when the cell has been executed in the\n",
              "      current browser session. Please rerun this cell to enable.\n",
              "      </output>\n",
              "      <script src=\"/nbextensions/google.colab/files.js\"></script> "
            ],
            "text/plain": [
              "<IPython.core.display.HTML object>"
            ]
          },
          "metadata": {},
          "output_type": "display_data"
        },
        {
          "name": "stdout",
          "output_type": "stream",
          "text": [
            "Saving telecom_users.csv to telecom_users.csv\n"
          ]
        }
      ],
      "source": [
        "from google.colab import files\n",
        "import io\n",
        "uploaded = files.upload()\n",
        "file_name = next(iter(uploaded))"
      ]
    },
    {
      "cell_type": "code",
      "execution_count": null,
      "metadata": {
        "colab": {
          "base_uri": "https://localhost:8080/",
          "height": 626
        },
        "id": "-sgT-aouDQbh",
        "outputId": "42407614-3597-4e0d-ca82-9ae3c2ff25e2"
      },
      "outputs": [
        {
          "data": {
            "text/html": [
              "<div>\n",
              "<style scoped>\n",
              "    .dataframe tbody tr th:only-of-type {\n",
              "        vertical-align: middle;\n",
              "    }\n",
              "\n",
              "    .dataframe tbody tr th {\n",
              "        vertical-align: top;\n",
              "    }\n",
              "\n",
              "    .dataframe thead th {\n",
              "        text-align: right;\n",
              "    }\n",
              "</style>\n",
              "<table border=\"1\" class=\"dataframe\">\n",
              "  <thead>\n",
              "    <tr style=\"text-align: right;\">\n",
              "      <th></th>\n",
              "      <th>Unnamed: 0</th>\n",
              "      <th>IDCliente</th>\n",
              "      <th>Genero</th>\n",
              "      <th>Aposentado</th>\n",
              "      <th>Casado</th>\n",
              "      <th>Dependentes</th>\n",
              "      <th>MesesComoCliente</th>\n",
              "      <th>ServicoTelefone</th>\n",
              "      <th>MultiplasLinhas</th>\n",
              "      <th>ServicoInternet</th>\n",
              "      <th>ServicoSegurancaOnline</th>\n",
              "      <th>ServicoBackupOnline</th>\n",
              "      <th>ProtecaoEquipamento</th>\n",
              "      <th>ServicoSuporteTecnico</th>\n",
              "      <th>ServicoStreamingTV</th>\n",
              "      <th>ServicoFilmes</th>\n",
              "      <th>TipoContrato</th>\n",
              "      <th>FaturaDigital</th>\n",
              "      <th>FormaPagamento</th>\n",
              "      <th>ValorMensal</th>\n",
              "      <th>TotalGasto</th>\n",
              "      <th>Churn</th>\n",
              "      <th>Codigo</th>\n",
              "    </tr>\n",
              "  </thead>\n",
              "  <tbody>\n",
              "    <tr>\n",
              "      <th>0</th>\n",
              "      <td>1869</td>\n",
              "      <td>7010-BRBUU</td>\n",
              "      <td>Masculino</td>\n",
              "      <td>0</td>\n",
              "      <td>Sim</td>\n",
              "      <td>Sim</td>\n",
              "      <td>72</td>\n",
              "      <td>Sim</td>\n",
              "      <td>Sim</td>\n",
              "      <td>Nao</td>\n",
              "      <td>SemInternet</td>\n",
              "      <td>SemInternet</td>\n",
              "      <td>SemInternet</td>\n",
              "      <td>SemInternet</td>\n",
              "      <td>SemInternet</td>\n",
              "      <td>SemInternet</td>\n",
              "      <td>2 anos</td>\n",
              "      <td>Nao</td>\n",
              "      <td>CartaoCredito</td>\n",
              "      <td>24.10</td>\n",
              "      <td>1734.65</td>\n",
              "      <td>Nao</td>\n",
              "      <td>NaN</td>\n",
              "    </tr>\n",
              "    <tr>\n",
              "      <th>1</th>\n",
              "      <td>4528</td>\n",
              "      <td>9688-YGXVR</td>\n",
              "      <td>Feminino</td>\n",
              "      <td>0</td>\n",
              "      <td>Nao</td>\n",
              "      <td>Nao</td>\n",
              "      <td>44</td>\n",
              "      <td>Sim</td>\n",
              "      <td>Nao</td>\n",
              "      <td>Fibra</td>\n",
              "      <td>Nao</td>\n",
              "      <td>Sim</td>\n",
              "      <td>Sim</td>\n",
              "      <td>Nao</td>\n",
              "      <td>Sim</td>\n",
              "      <td>Nao</td>\n",
              "      <td>Mensal</td>\n",
              "      <td>Sim</td>\n",
              "      <td>CartaoCredito</td>\n",
              "      <td>88.15</td>\n",
              "      <td>3973.2</td>\n",
              "      <td>Nao</td>\n",
              "      <td>NaN</td>\n",
              "    </tr>\n",
              "    <tr>\n",
              "      <th>2</th>\n",
              "      <td>6344</td>\n",
              "      <td>9286-DOJGF</td>\n",
              "      <td>Feminino</td>\n",
              "      <td>1</td>\n",
              "      <td>Sim</td>\n",
              "      <td>Nao</td>\n",
              "      <td>38</td>\n",
              "      <td>Sim</td>\n",
              "      <td>Sim</td>\n",
              "      <td>Fibra</td>\n",
              "      <td>Nao</td>\n",
              "      <td>Nao</td>\n",
              "      <td>Nao</td>\n",
              "      <td>Nao</td>\n",
              "      <td>Nao</td>\n",
              "      <td>Nao</td>\n",
              "      <td>Mensal</td>\n",
              "      <td>Sim</td>\n",
              "      <td>DebitoAutomatico</td>\n",
              "      <td>74.95</td>\n",
              "      <td>2869.85</td>\n",
              "      <td>Sim</td>\n",
              "      <td>NaN</td>\n",
              "    </tr>\n",
              "    <tr>\n",
              "      <th>3</th>\n",
              "      <td>6739</td>\n",
              "      <td>6994-KERXL</td>\n",
              "      <td>Masculino</td>\n",
              "      <td>0</td>\n",
              "      <td>Nao</td>\n",
              "      <td>Nao</td>\n",
              "      <td>4</td>\n",
              "      <td>Sim</td>\n",
              "      <td>Nao</td>\n",
              "      <td>DSL</td>\n",
              "      <td>Nao</td>\n",
              "      <td>Nao</td>\n",
              "      <td>Nao</td>\n",
              "      <td>Nao</td>\n",
              "      <td>Nao</td>\n",
              "      <td>Sim</td>\n",
              "      <td>Mensal</td>\n",
              "      <td>Sim</td>\n",
              "      <td>BoletoEletronico</td>\n",
              "      <td>55.90</td>\n",
              "      <td>238.5</td>\n",
              "      <td>Nao</td>\n",
              "      <td>NaN</td>\n",
              "    </tr>\n",
              "    <tr>\n",
              "      <th>4</th>\n",
              "      <td>432</td>\n",
              "      <td>2181-UAESM</td>\n",
              "      <td>Masculino</td>\n",
              "      <td>0</td>\n",
              "      <td>Nao</td>\n",
              "      <td>Nao</td>\n",
              "      <td>2</td>\n",
              "      <td>Sim</td>\n",
              "      <td>Nao</td>\n",
              "      <td>DSL</td>\n",
              "      <td>Sim</td>\n",
              "      <td>Nao</td>\n",
              "      <td>Sim</td>\n",
              "      <td>Nao</td>\n",
              "      <td>Nao</td>\n",
              "      <td>Nao</td>\n",
              "      <td>Mensal</td>\n",
              "      <td>Nao</td>\n",
              "      <td>BoletoEletronico</td>\n",
              "      <td>53.45</td>\n",
              "      <td>119.5</td>\n",
              "      <td>Nao</td>\n",
              "      <td>NaN</td>\n",
              "    </tr>\n",
              "    <tr>\n",
              "      <th>...</th>\n",
              "      <td>...</td>\n",
              "      <td>...</td>\n",
              "      <td>...</td>\n",
              "      <td>...</td>\n",
              "      <td>...</td>\n",
              "      <td>...</td>\n",
              "      <td>...</td>\n",
              "      <td>...</td>\n",
              "      <td>...</td>\n",
              "      <td>...</td>\n",
              "      <td>...</td>\n",
              "      <td>...</td>\n",
              "      <td>...</td>\n",
              "      <td>...</td>\n",
              "      <td>...</td>\n",
              "      <td>...</td>\n",
              "      <td>...</td>\n",
              "      <td>...</td>\n",
              "      <td>...</td>\n",
              "      <td>...</td>\n",
              "      <td>...</td>\n",
              "      <td>...</td>\n",
              "      <td>...</td>\n",
              "    </tr>\n",
              "    <tr>\n",
              "      <th>5981</th>\n",
              "      <td>3772</td>\n",
              "      <td>0684-AOSIH</td>\n",
              "      <td>Masculino</td>\n",
              "      <td>0</td>\n",
              "      <td>Sim</td>\n",
              "      <td>Nao</td>\n",
              "      <td>1</td>\n",
              "      <td>Sim</td>\n",
              "      <td>Nao</td>\n",
              "      <td>Fibra</td>\n",
              "      <td>Sim</td>\n",
              "      <td>Nao</td>\n",
              "      <td>Nao</td>\n",
              "      <td>Nao</td>\n",
              "      <td>Sim</td>\n",
              "      <td>Sim</td>\n",
              "      <td>Mensal</td>\n",
              "      <td>Sim</td>\n",
              "      <td>BoletoEletronico</td>\n",
              "      <td>95.00</td>\n",
              "      <td>95</td>\n",
              "      <td>Sim</td>\n",
              "      <td>NaN</td>\n",
              "    </tr>\n",
              "    <tr>\n",
              "      <th>5982</th>\n",
              "      <td>5191</td>\n",
              "      <td>5982-PSMKW</td>\n",
              "      <td>Feminino</td>\n",
              "      <td>0</td>\n",
              "      <td>Sim</td>\n",
              "      <td>Sim</td>\n",
              "      <td>23</td>\n",
              "      <td>Sim</td>\n",
              "      <td>Sim</td>\n",
              "      <td>DSL</td>\n",
              "      <td>Sim</td>\n",
              "      <td>Sim</td>\n",
              "      <td>Sim</td>\n",
              "      <td>Sim</td>\n",
              "      <td>Sim</td>\n",
              "      <td>Sim</td>\n",
              "      <td>2 anos</td>\n",
              "      <td>Sim</td>\n",
              "      <td>CartaoCredito</td>\n",
              "      <td>91.10</td>\n",
              "      <td>2198.3</td>\n",
              "      <td>Nao</td>\n",
              "      <td>NaN</td>\n",
              "    </tr>\n",
              "    <tr>\n",
              "      <th>5983</th>\n",
              "      <td>5226</td>\n",
              "      <td>8044-BGWPI</td>\n",
              "      <td>Masculino</td>\n",
              "      <td>0</td>\n",
              "      <td>Sim</td>\n",
              "      <td>Sim</td>\n",
              "      <td>12</td>\n",
              "      <td>Sim</td>\n",
              "      <td>Nao</td>\n",
              "      <td>Nao</td>\n",
              "      <td>SemInternet</td>\n",
              "      <td>SemInternet</td>\n",
              "      <td>SemInternet</td>\n",
              "      <td>SemInternet</td>\n",
              "      <td>SemInternet</td>\n",
              "      <td>SemInternet</td>\n",
              "      <td>Mensal</td>\n",
              "      <td>Sim</td>\n",
              "      <td>BoletoEletronico</td>\n",
              "      <td>21.15</td>\n",
              "      <td>306.05</td>\n",
              "      <td>Nao</td>\n",
              "      <td>NaN</td>\n",
              "    </tr>\n",
              "    <tr>\n",
              "      <th>5984</th>\n",
              "      <td>5390</td>\n",
              "      <td>7450-NWRTR</td>\n",
              "      <td>Masculino</td>\n",
              "      <td>1</td>\n",
              "      <td>Nao</td>\n",
              "      <td>Nao</td>\n",
              "      <td>12</td>\n",
              "      <td>Sim</td>\n",
              "      <td>Sim</td>\n",
              "      <td>Fibra</td>\n",
              "      <td>Nao</td>\n",
              "      <td>Nao</td>\n",
              "      <td>Sim</td>\n",
              "      <td>Nao</td>\n",
              "      <td>Sim</td>\n",
              "      <td>Sim</td>\n",
              "      <td>Mensal</td>\n",
              "      <td>Sim</td>\n",
              "      <td>BoletoEletronico</td>\n",
              "      <td>99.45</td>\n",
              "      <td>1200.15</td>\n",
              "      <td>Sim</td>\n",
              "      <td>NaN</td>\n",
              "    </tr>\n",
              "    <tr>\n",
              "      <th>5985</th>\n",
              "      <td>860</td>\n",
              "      <td>4795-UXVCJ</td>\n",
              "      <td>Masculino</td>\n",
              "      <td>0</td>\n",
              "      <td>Nao</td>\n",
              "      <td>Nao</td>\n",
              "      <td>26</td>\n",
              "      <td>Sim</td>\n",
              "      <td>Nao</td>\n",
              "      <td>Nao</td>\n",
              "      <td>SemInternet</td>\n",
              "      <td>SemInternet</td>\n",
              "      <td>SemInternet</td>\n",
              "      <td>SemInternet</td>\n",
              "      <td>SemInternet</td>\n",
              "      <td>SemInternet</td>\n",
              "      <td>Anual</td>\n",
              "      <td>Nao</td>\n",
              "      <td>CartaoCredito</td>\n",
              "      <td>19.80</td>\n",
              "      <td>457.3</td>\n",
              "      <td>Nao</td>\n",
              "      <td>NaN</td>\n",
              "    </tr>\n",
              "  </tbody>\n",
              "</table>\n",
              "<p>5986 rows × 23 columns</p>\n",
              "</div>"
            ],
            "text/plain": [
              "      Unnamed: 0   IDCliente     Genero  ...  TotalGasto Churn Codigo\n",
              "0           1869  7010-BRBUU  Masculino  ...     1734.65   Nao    NaN\n",
              "1           4528  9688-YGXVR   Feminino  ...      3973.2   Nao    NaN\n",
              "2           6344  9286-DOJGF   Feminino  ...     2869.85   Sim    NaN\n",
              "3           6739  6994-KERXL  Masculino  ...       238.5   Nao    NaN\n",
              "4            432  2181-UAESM  Masculino  ...       119.5   Nao    NaN\n",
              "...          ...         ...        ...  ...         ...   ...    ...\n",
              "5981        3772  0684-AOSIH  Masculino  ...          95   Sim    NaN\n",
              "5982        5191  5982-PSMKW   Feminino  ...      2198.3   Nao    NaN\n",
              "5983        5226  8044-BGWPI  Masculino  ...      306.05   Nao    NaN\n",
              "5984        5390  7450-NWRTR  Masculino  ...     1200.15   Sim    NaN\n",
              "5985         860  4795-UXVCJ  Masculino  ...       457.3   Nao    NaN\n",
              "\n",
              "[5986 rows x 23 columns]"
            ]
          },
          "metadata": {},
          "output_type": "display_data"
        }
      ],
      "source": [
        "df = pd.read_csv(\"telecom_users.csv\",  encoding=\"ISO-8859-1\")\n",
        "display(df)"
      ]
    },
    {
      "cell_type": "markdown",
      "metadata": {
        "id": "epmzGpJdEVR_"
      },
      "source": [
        "###Tratando dados\n"
      ]
    },
    {
      "cell_type": "code",
      "execution_count": null,
      "metadata": {
        "colab": {
          "base_uri": "https://localhost:8080/"
        },
        "id": "6iWrP7ulDxGy",
        "outputId": "00926b0e-3772-4497-ad72-6d91cdeab0d3"
      },
      "outputs": [
        {
          "data": {
            "text/plain": [
              "Index(['Unnamed: 0', 'IDCliente', 'Genero', 'Aposentado', 'Casado',\n",
              "       'Dependentes', 'MesesComoCliente', 'ServicoTelefone', 'MultiplasLinhas',\n",
              "       'ServicoInternet', 'ServicoSegurancaOnline', 'ServicoBackupOnline',\n",
              "       'ProtecaoEquipamento', 'ServicoSuporteTecnico', 'ServicoStreamingTV',\n",
              "       'ServicoFilmes', 'TipoContrato', 'FaturaDigital', 'FormaPagamento',\n",
              "       'ValorMensal', 'TotalGasto', 'Churn', 'Codigo'],\n",
              "      dtype='object')"
            ]
          },
          "execution_count": 5,
          "metadata": {},
          "output_type": "execute_result"
        }
      ],
      "source": [
        "df.columns"
      ]
    },
    {
      "cell_type": "code",
      "execution_count": null,
      "metadata": {
        "id": "b1-gMDUfFqoE"
      },
      "outputs": [],
      "source": [
        "df.drop(columns=[\"Unnamed: 0\",'IDCliente','ServicoTelefone', 'MultiplasLinhas',\n",
        "       'ServicoInternet', 'ServicoSegurancaOnline', 'ServicoBackupOnline',\n",
        "       'ProtecaoEquipamento', 'ServicoSuporteTecnico', 'ServicoStreamingTV',\n",
        "      'ServicoFilmes','Codigo'], inplace=True)"
      ]
    },
    {
      "cell_type": "code",
      "execution_count": null,
      "metadata": {
        "colab": {
          "base_uri": "https://localhost:8080/"
        },
        "id": "hmh4oAjgEMDa",
        "outputId": "9c3ca6d9-b1de-489d-b2df-ad75280a589a"
      },
      "outputs": [
        {
          "name": "stdout",
          "output_type": "stream",
          "text": [
            "<class 'pandas.core.frame.DataFrame'>\n",
            "Int64Index: 5984 entries, 0 to 5985\n",
            "Data columns (total 11 columns):\n",
            " #   Column            Non-Null Count  Dtype  \n",
            "---  ------            --------------  -----  \n",
            " 0   Genero            5984 non-null   object \n",
            " 1   Aposentado        5984 non-null   int64  \n",
            " 2   Casado            5984 non-null   object \n",
            " 3   Dependentes       5984 non-null   object \n",
            " 4   MesesComoCliente  5984 non-null   int64  \n",
            " 5   TipoContrato      5984 non-null   object \n",
            " 6   FaturaDigital     5984 non-null   object \n",
            " 7   FormaPagamento    5984 non-null   object \n",
            " 8   ValorMensal       5984 non-null   float64\n",
            " 9   TotalGasto        5984 non-null   object \n",
            " 10  Churn             5984 non-null   object \n",
            "dtypes: float64(1), int64(2), object(8)\n",
            "memory usage: 561.0+ KB\n",
            "None\n"
          ]
        }
      ],
      "source": [
        "df = df.dropna(how=\"all\", axis=1) \n",
        "df = df.dropna(how=\"any\", axis=0) \n",
        "print(df.info())"
      ]
    },
    {
      "cell_type": "markdown",
      "metadata": {
        "id": "_SUl49y9EveJ"
      },
      "source": [
        "Mudando tipos dos dados\n",
        "\n",
        "\n",
        "*   Genero = bool\n",
        "*   Aposentado = bool\n",
        "* Dependentes = bool\n",
        "* Total gasto = float\n",
        "* Fatura digital = bool\n",
        "* Meses como cliente = float\n",
        "* total gasto = float\n",
        "\n"
      ]
    },
    {
      "cell_type": "code",
      "execution_count": null,
      "metadata": {
        "colab": {
          "base_uri": "https://localhost:8080/"
        },
        "id": "yW35MMOCEqcl",
        "outputId": "1d84746d-2a1a-4516-d94c-edf783dc7241"
      },
      "outputs": [
        {
          "name": "stdout",
          "output_type": "stream",
          "text": [
            "<class 'pandas.core.frame.DataFrame'>\n",
            "Int64Index: 5984 entries, 0 to 5985\n",
            "Data columns (total 11 columns):\n",
            " #   Column            Non-Null Count  Dtype  \n",
            "---  ------            --------------  -----  \n",
            " 0   Genero            5984 non-null   object \n",
            " 1   Aposentado        5984 non-null   int64  \n",
            " 2   Casado            5984 non-null   object \n",
            " 3   Dependentes       5984 non-null   object \n",
            " 4   MesesComoCliente  5984 non-null   float64\n",
            " 5   TipoContrato      5984 non-null   object \n",
            " 6   FaturaDigital     5984 non-null   object \n",
            " 7   FormaPagamento    5984 non-null   object \n",
            " 8   ValorMensal       5984 non-null   float64\n",
            " 9   TotalGasto        5974 non-null   float64\n",
            " 10  Churn             5984 non-null   object \n",
            "dtypes: float64(3), int64(1), object(7)\n",
            "memory usage: 561.0+ KB\n",
            "None\n"
          ]
        }
      ],
      "source": [
        "df[\"TotalGasto\"] = pd.to_numeric(df[\"TotalGasto\"], errors=\"coerce\")\n",
        "df['MesesComoCliente'] = df[\"MesesComoCliente\"].astype(float)\n",
        "df['MesesComoCliente'] = df[\"MesesComoCliente\"].astype(float)\n",
        "\n",
        "print(df.info())"
      ]
    },
    {
      "cell_type": "code",
      "execution_count": null,
      "metadata": {
        "colab": {
          "base_uri": "https://localhost:8080/"
        },
        "id": "Oq3MINBQJTbO",
        "outputId": "027dbe05-4ddd-4f0d-a996-d288da658bc0"
      },
      "outputs": [
        {
          "name": "stdout",
          "output_type": "stream",
          "text": [
            "<class 'pandas.core.frame.DataFrame'>\n",
            "Int64Index: 5984 entries, 0 to 5985\n",
            "Data columns (total 14 columns):\n",
            " #   Column                           Non-Null Count  Dtype  \n",
            "---  ------                           --------------  -----  \n",
            " 0   MesesComoCliente                 5984 non-null   float64\n",
            " 1   ValorMensal                      5984 non-null   float64\n",
            " 2   TotalGasto                       5974 non-null   float64\n",
            " 3   Genero_Masculino                 5984 non-null   bool   \n",
            " 4   Casado_Sim                       5984 non-null   bool   \n",
            " 5   Aposentado_1                     5984 non-null   bool   \n",
            " 6   Dependentes_Sim                  5984 non-null   bool   \n",
            " 7   TipoContrato_Anual               5984 non-null   bool   \n",
            " 8   TipoContrato_Mensal              5984 non-null   bool   \n",
            " 9   FaturaDigital_Sim                5984 non-null   bool   \n",
            " 10  FormaPagamento_BoletoImpresso    5984 non-null   bool   \n",
            " 11  FormaPagamento_CartaoCredito     5984 non-null   bool   \n",
            " 12  FormaPagamento_DebitoAutomatico  5984 non-null   bool   \n",
            " 13  Churn_Sim                        5984 non-null   bool   \n",
            "dtypes: bool(11), float64(3)\n",
            "memory usage: 251.3 KB\n",
            "None\n"
          ]
        }
      ],
      "source": [
        "dfn = pd.get_dummies(df, columns=['Genero', 'Casado', 'Aposentado', 'Dependentes', \n",
        "'TipoContrato', 'FaturaDigital', 'FormaPagamento', 'Churn'], drop_first=True, dtype=bool)\n",
        "print(dfn.info())"
      ]
    },
    {
      "cell_type": "markdown",
      "metadata": {
        "id": "bScfuF9pN4P4"
      },
      "source": [
        "###Dividindo dataset em test e train\n"
      ]
    },
    {
      "cell_type": "code",
      "execution_count": null,
      "metadata": {
        "id": "9ddDLn-pOJQD"
      },
      "outputs": [],
      "source": [
        "train, test = train_test_split(dfn.to_numpy().tolist(), random_state=42) \n"
      ]
    },
    {
      "cell_type": "markdown",
      "metadata": {
        "id": "hkQ8j7y6uRvI"
      },
      "source": [
        "###Definindo nós internos"
      ]
    },
    {
      "cell_type": "code",
      "execution_count": null,
      "metadata": {
        "id": "EQ_9GGj6ftIM"
      },
      "outputs": [],
      "source": [
        "\n",
        "# 3 tipos float 10 tipos bool retorna bool\n",
        "\n",
        "pset = gp.PrimitiveSetTyped(\"MAIN\", list(itertools.repeat(float, 3)) +list(itertools.repeat(bool, 10)), bool, \"IN\")\n",
        "\n",
        "# boolean operators\n",
        "pset.addPrimitive(operator.and_, [bool, bool], bool)\n",
        "pset.addPrimitive(operator.or_, [bool, bool], bool)\n",
        "pset.addPrimitive(operator.not_, [bool], bool)\n",
        "\n",
        "# floating point operators\n",
        "# Define a protected division function\n",
        "def protectedDiv(left, right):\n",
        "    try: return left / right\n",
        "    except ZeroDivisionError: return 1\n",
        "\n",
        "pset.addPrimitive(operator.add, [float,float], float)\n",
        "pset.addPrimitive(operator.sub, [float,float], float)\n",
        "pset.addPrimitive(operator.mul, [float,float], float)\n",
        "pset.addPrimitive(protectedDiv, [float,float], float)\n",
        "\n",
        "# logic operators\n",
        "# Define a new if-then-else function\n",
        "def if_then_else(input, output1, output2):\n",
        "    if input: return output1\n",
        "    else: return output2\n",
        "\n",
        "pset.addPrimitive(operator.lt, [float, float], bool)\n",
        "pset.addPrimitive(operator.eq, [float, float], bool)\n",
        "pset.addPrimitive(if_then_else, [bool, float, float], float)\n",
        "\n",
        "# terminals\n",
        "#pset.addEphemeralConstant(\"rand100\", lambda: random.random() * 100, float)\n",
        "pset.addTerminal(False, bool)\n",
        "\n",
        "\n"
      ]
    },
    {
      "cell_type": "markdown",
      "metadata": {
        "id": "yn6jpL14uUml"
      },
      "source": [
        "###Criando individuo e função fitness"
      ]
    },
    {
      "cell_type": "code",
      "execution_count": null,
      "metadata": {
        "id": "Jv85WCE4uU2Z"
      },
      "outputs": [],
      "source": [
        "creator.create(\"FitnessMax\", base.Fitness, weights=(1.0,))\n",
        "creator.create(\"Individual\", gp.PrimitiveTree, fitness=creator.FitnessMax)\n"
      ]
    },
    {
      "cell_type": "markdown",
      "metadata": {
        "id": "za7QtgObAZxO"
      },
      "source": [
        "###Construindo o toolbox"
      ]
    },
    {
      "cell_type": "code",
      "execution_count": null,
      "metadata": {
        "id": "TY3ngJCSxRMq"
      },
      "outputs": [],
      "source": [
        "def evaluate_individual(individual):\n",
        "    func = toolbox.compile(expr=individual)\n",
        "    customers_sample = random.sample(train, 400)\n",
        "    result = sum(bool(func(*customer[:13])) is bool(customer[13]) for customer in customers_sample)\n",
        "\n",
        "    return result,\n",
        "\n"
      ]
    },
    {
      "cell_type": "code",
      "execution_count": null,
      "metadata": {
        "id": "EG_ap67BzH95",
        "outputId": "1662cbd0-c03a-47fa-c920-7a99e64eb596",
        "colab": {
          "base_uri": "https://localhost:8080/",
          "height": 246
        }
      },
      "outputs": [
        {
          "output_type": "error",
          "ename": "NameError",
          "evalue": "ignored",
          "traceback": [
            "\u001b[0;31m---------------------------------------------------------------------------\u001b[0m",
            "\u001b[0;31mNameError\u001b[0m                                 Traceback (most recent call last)",
            "\u001b[0;32m<ipython-input-1-d4fd295c2cfe>\u001b[0m in \u001b[0;36m<module>\u001b[0;34m()\u001b[0m\n\u001b[0;32m----> 1\u001b[0;31m \u001b[0mtoolbox\u001b[0m \u001b[0;34m=\u001b[0m \u001b[0mbase\u001b[0m\u001b[0;34m.\u001b[0m\u001b[0mToolbox\u001b[0m\u001b[0;34m(\u001b[0m\u001b[0;34m)\u001b[0m\u001b[0;34m\u001b[0m\u001b[0;34m\u001b[0m\u001b[0m\n\u001b[0m\u001b[1;32m      2\u001b[0m \u001b[0mtoolbox\u001b[0m\u001b[0;34m.\u001b[0m\u001b[0mregister\u001b[0m\u001b[0;34m(\u001b[0m\u001b[0;34m\"expr\"\u001b[0m\u001b[0;34m,\u001b[0m \u001b[0mgp\u001b[0m\u001b[0;34m.\u001b[0m\u001b[0mgenHalfAndHalf\u001b[0m\u001b[0;34m,\u001b[0m \u001b[0mpset\u001b[0m\u001b[0;34m=\u001b[0m\u001b[0mpset\u001b[0m\u001b[0;34m,\u001b[0m \u001b[0mmin_\u001b[0m\u001b[0;34m=\u001b[0m\u001b[0;36m5\u001b[0m\u001b[0;34m,\u001b[0m \u001b[0mmax_\u001b[0m\u001b[0;34m=\u001b[0m\u001b[0;36m5\u001b[0m\u001b[0;34m)\u001b[0m\u001b[0;34m\u001b[0m\u001b[0;34m\u001b[0m\u001b[0m\n\u001b[1;32m      3\u001b[0m \u001b[0mtoolbox\u001b[0m\u001b[0;34m.\u001b[0m\u001b[0mregister\u001b[0m\u001b[0;34m(\u001b[0m\u001b[0;34m\"individual\"\u001b[0m\u001b[0;34m,\u001b[0m \u001b[0mtools\u001b[0m\u001b[0;34m.\u001b[0m\u001b[0minitIterate\u001b[0m\u001b[0;34m,\u001b[0m \u001b[0mcreator\u001b[0m\u001b[0;34m.\u001b[0m\u001b[0mIndividual\u001b[0m\u001b[0;34m,\u001b[0m \u001b[0mtoolbox\u001b[0m\u001b[0;34m.\u001b[0m\u001b[0mexpr\u001b[0m\u001b[0;34m)\u001b[0m\u001b[0;34m\u001b[0m\u001b[0;34m\u001b[0m\u001b[0m\n\u001b[1;32m      4\u001b[0m \u001b[0mtoolbox\u001b[0m\u001b[0;34m.\u001b[0m\u001b[0mregister\u001b[0m\u001b[0;34m(\u001b[0m\u001b[0;34m\"population\"\u001b[0m\u001b[0;34m,\u001b[0m \u001b[0mtools\u001b[0m\u001b[0;34m.\u001b[0m\u001b[0minitRepeat\u001b[0m\u001b[0;34m,\u001b[0m \u001b[0mlist\u001b[0m\u001b[0;34m,\u001b[0m \u001b[0mtoolbox\u001b[0m\u001b[0;34m.\u001b[0m\u001b[0mindividual\u001b[0m\u001b[0;34m)\u001b[0m\u001b[0;34m\u001b[0m\u001b[0;34m\u001b[0m\u001b[0m\n\u001b[1;32m      5\u001b[0m \u001b[0mtoolbox\u001b[0m\u001b[0;34m.\u001b[0m\u001b[0mregister\u001b[0m\u001b[0;34m(\u001b[0m\u001b[0;34m\"compile\"\u001b[0m\u001b[0;34m,\u001b[0m \u001b[0mgp\u001b[0m\u001b[0;34m.\u001b[0m\u001b[0mcompile\u001b[0m\u001b[0;34m,\u001b[0m \u001b[0mpset\u001b[0m\u001b[0;34m=\u001b[0m\u001b[0mpset\u001b[0m\u001b[0;34m)\u001b[0m\u001b[0;34m\u001b[0m\u001b[0;34m\u001b[0m\u001b[0m\n",
            "\u001b[0;31mNameError\u001b[0m: name 'base' is not defined"
          ]
        }
      ],
      "source": [
        "toolbox = base.Toolbox()\n",
        "toolbox.register(\"expr\", gp.genHalfAndHalf, pset=pset, min_=5, max_=5)\n",
        "toolbox.register(\"individual\", tools.initIterate, creator.Individual, toolbox.expr)\n",
        "toolbox.register(\"population\", tools.initRepeat, list, toolbox.individual)\n",
        "toolbox.register(\"compile\", gp.compile, pset=pset)"
      ]
    },
    {
      "cell_type": "code",
      "execution_count": null,
      "metadata": {
        "id": "sirKrYnudJOq"
      },
      "outputs": [],
      "source": [
        "toolbox.register(\"evaluate\", evaluate_individual)\n",
        "toolbox.register(\"select\", tools.selTournament, tournsize=3)\n",
        "toolbox.register(\"mate\", gp.cxOnePoint)\n",
        "toolbox.register(\"expr_mut\", gp.genFull, min_=0, max_=2)\n",
        "toolbox.register(\"mutate\", gp.mutUniform, expr=toolbox.expr_mut, pset=pset)\n"
      ]
    },
    {
      "cell_type": "markdown",
      "metadata": {
        "id": "uCubAjxG7Uhe"
      },
      "source": [
        "##Main\n"
      ]
    },
    {
      "cell_type": "code",
      "execution_count": null,
      "metadata": {
        "colab": {
          "base_uri": "https://localhost:8080/"
        },
        "id": "tkp8QjZ4Jg9X",
        "outputId": "8eee67fe-9fcc-41a6-fef0-d4fd63a3fd9c"
      },
      "outputs": [
        {
          "data": {
            "text/plain": [
              "Index(['MesesComoCliente', 'ValorMensal', 'TotalGasto', 'Genero_Masculino',\n",
              "       'Casado_Sim', 'Aposentado_1', 'Dependentes_Sim', 'TipoContrato_Anual',\n",
              "       'TipoContrato_Mensal', 'FaturaDigital_Sim',\n",
              "       'FormaPagamento_BoletoImpresso', 'FormaPagamento_CartaoCredito',\n",
              "       'FormaPagamento_DebitoAutomatico', 'Churn_Sim'],\n",
              "      dtype='object')"
            ]
          },
          "execution_count": 16,
          "metadata": {},
          "output_type": "execute_result"
        }
      ],
      "source": [
        "dfn.columns"
      ]
    },
    {
      "cell_type": "code",
      "execution_count": null,
      "metadata": {
        "id": "MtntCRQj7WKw"
      },
      "outputs": [],
      "source": [
        "\n",
        "def Config1():\n",
        "    #random.seed(10)\n",
        "    pop = toolbox.population(n=100)\n",
        "    hof = tools.HallOfFame(1)\n",
        "    stats = tools.Statistics(lambda ind: ind.fitness.values)\n",
        "    stats.register(\"avg\", np.mean)\n",
        "    stats.register(\"std\", np.std)\n",
        "    stats.register(\"min\", np.min)\n",
        "    stats.register(\"max\", np.max)\n",
        "    \n",
        "    algorithms.eaSimple(pop, toolbox, 0.5, 0.2, 40, stats, halloffame=hof, verbose=None)\n",
        "\n",
        "    return hof\n"
      ]
    },
    {
      "cell_type": "code",
      "execution_count": null,
      "metadata": {
        "id": "GcZzkXXhPJlU"
      },
      "outputs": [],
      "source": [
        "bestTrain = []\n",
        "bestExpressionTrain = []\n",
        "def Train(n):\n",
        "    for i in range(n):\n",
        "      hof = Config1()[0]\n",
        "      func = toolbox.compile(expr=hof)\n",
        "      result_train = sum(bool(func(*customer[:13])) is bool(customer[13]) for customer in train) / len(train)\n",
        "      bestTrain.append(result_train)\n",
        "      bestExpressionTrain.append(hof)\n",
        "#Train(30)\n",
        "\n",
        "bestTest = []\n",
        "bestExpressionTest = []\n",
        "def Test(n):\n",
        "  for i in range(n):\n",
        "      hof = Config1()[0]\n",
        "      func = toolbox.compile(expr=hof)\n",
        "      result_test = sum(bool(func(*customer[:13])) is bool(customer[13]) for customer in test) / len(test)\n",
        "      bestTest.append(result_test)\n",
        "      bestExpressionTest.append(hof)\n",
        "  \n",
        "#Test(30)"
      ]
    },
    {
      "cell_type": "code",
      "execution_count": null,
      "metadata": {
        "colab": {
          "background_save": true,
          "base_uri": "https://localhost:8080/",
          "height": 403
        },
        "id": "0ao2plfa2NbI",
        "outputId": "af7a598a-0a0b-47c9-952a-442f9e6b2daa"
      },
      "outputs": [
        {
          "name": "stdout",
          "output_type": "stream",
          "text": [
            "minimo:  0.7551247771836007\n",
            "maximo:  0.7569073083778967\n",
            "média:  0.7554590017825312\n",
            "desvio padrão:  0.0006527924773933218\n",
            "o maior valor encontrado nas 30 iterações foi 0.7569073083778967\n",
            "a melhor expressão encontrada:  lt(protectedDiv(add(mul(protectedDiv(IN2, IN1), if_then_else(IN12, IN0, IN0)), mul(add(IN2, IN1), add(IN2, IN0))), add(mul(add(IN1, IN1), IN2), mul(mul(IN0, IN0), add(IN0, IN2)))), add(sub(protectedDiv(if_then_else(eq(IN1, IN2), IN1, IN2), add(IN1, IN0)), sub(mul(IN0, IN2), mul(IN0, IN1))), if_then_else(and_(eq(IN2, IN0), and_(IN11, IN11)), mul(sub(IN1, IN2), protectedDiv(IN1, IN1)), mul(if_then_else(IN7, IN1, IN2), protectedDiv(IN1, IN0)))))\n"
          ]
        },
        {
          "data": {
            "image/png": "[encoded data removed]",
            "text/plain": [
              "<Figure size 432x288 with 1 Axes>"
            ]
          },
          "metadata": {},
          "output_type": "display_data"
        }
      ],
      "source": [
        "Train(30)\n",
        "indexMax = np.argmax(bestTrain)\n",
        "\n",
        "print(\"minimo: \", np.min(bestTrain))\n",
        "print(\"maximo: \", np.max(bestTrain))\n",
        "print(\"média: \",np.mean(bestTrain))\n",
        "print(\"desvio padrão: \", np.std(bestTrain))\n",
        "print(f'o maior valor encontrado nas 30 iterações foi {bestTrain[indexMax]}')\n",
        "print('a melhor expressão encontrada: ', bestExpressionTrain[indexMax])\n",
        "\n",
        "\n",
        "plt.clf()\n",
        "plt.boxplot(bestTrain)\n",
        "plt.title(\"Gráfico configuração A com Train\")\n",
        "\n",
        "plt.savefig(\"Gráfico ATrain\", format='png')"
      ]
    },
    {
      "cell_type": "code",
      "execution_count": null,
      "metadata": {
        "colab": {
          "base_uri": "https://localhost:8080/",
          "height": 403
        },
        "id": "Xm7pHBkEX94i",
        "outputId": "61e24755-311d-40a5-f643-544c59395c5e"
      },
      "outputs": [
        {
          "name": "stdout",
          "output_type": "stream",
          "text": [
            "minimo:  0.7446524064171123\n",
            "maximo:  0.7847593582887701\n",
            "média:  0.7609848484848485\n",
            "desvio padrão:  0.008718387450660425\n",
            "o maior valor encontrado nas 30 iterações foi 0.7847593582887701\n",
            "a melhor expressão encontrada:  lt(add(mul(protectedDiv(sub(IN0, IN2), if_then_else(IN10, IN1, IN0)), mul(IN1, if_then_else(IN6, IN1, IN1))), if_then_else(eq(protectedDiv(IN1, IN1), add(IN2, IN2)), add(if_then_else(IN12, IN2, IN2), protectedDiv(IN0, add(IN2, IN2))), add(mul(IN1, sub(IN2, IN0)), protectedDiv(IN2, IN0)))), add(mul(mul(if_then_else(IN6, IN1, IN1), if_then_else(IN3, IN0, IN0)), sub(add(IN1, IN0), add(IN1, IN2))), add(if_then_else(or_(IN7, IN3), add(IN1, IN0), protectedDiv(IN2, IN0)), if_then_else(eq(IN1, IN2), IN2, if_then_else(IN12, IN2, IN1)))))\n"
          ]
        },
        {
          "data": {
            "image/png": "[encoded data removed]",
            "text/plain": [
              "<Figure size 432x288 with 1 Axes>"
            ]
          },
          "metadata": {},
          "output_type": "display_data"
        }
      ],
      "source": [
        "Test(30)\n",
        "indexMax = np.argmax(bestTest)\n",
        "\n",
        "print(\"minimo: \", np.min(bestTest))\n",
        "print(\"maximo: \", np.max(bestTest))\n",
        "print(\"média: \",np.mean(bestTest))\n",
        "print(\"desvio padrão: \", np.std(bestTest))\n",
        "print(f'o maior valor encontrado nas 30 iterações foi {bestTest[indexMax]}')\n",
        "print('a melhor expressão encontrada: ', bestExpressionTest[indexMax])\n",
        "\n",
        "\n",
        "plt.clf()\n",
        "plt.boxplot(bestTest)\n",
        "plt.title(\"Gráfico configuração A com Test\")\n",
        "\n",
        "plt.savefig(\"Gráfico ATest\", format='png')"
      ]
    },
    {
      "cell_type": "code",
      "execution_count": null,
      "metadata": {
        "id": "5rlou1NP01vj"
      },
      "outputs": [],
      "source": [
        "\n",
        "def Config2():\n",
        "    #random.seed(10)\n",
        "    MU, LAMBDA = 50, 100\n",
        "    pop = toolbox.population(n=MU)\n",
        "    hof = tools.ParetoFront()\n",
        "    stats = tools.Statistics(lambda ind: ind.fitness.values)\n",
        "    stats.register(\"avg\", np.mean)\n",
        "    stats.register(\"std\", np.std)\n",
        "    stats.register(\"min\", np.min)\n",
        "    stats.register(\"max\", np.max)\n",
        "\n",
        "    algorithms.eaMuPlusLambda(pop, toolbox, mu=MU, lambda_=LAMBDA, cxpb=0.5, mutpb=0.2, ngen=150, \n",
        "                              stats=stats, halloffame=hof, verbose=None)\n",
        "    \n",
        "    return hof\n"
      ]
    },
    {
      "cell_type": "markdown",
      "metadata": {
        "id": "2EjAtu4z2Kec"
      },
      "source": [
        "###gerando gráfico configuração B"
      ]
    },
    {
      "cell_type": "code",
      "execution_count": null,
      "metadata": {
        "id": "MmmkvpRI05wX"
      },
      "outputs": [],
      "source": [
        "bestTrainB = []\n",
        "bestExpressionTrainB = []\n",
        "def Train(n):\n",
        "    for i in range(n):\n",
        "      hof = Config2()[0]\n",
        "      func = toolbox.compile(expr=hof)\n",
        "      result_train = sum(bool(func(*customer[:13])) is bool(customer[13]) for customer in train) / len(train)\n",
        "      bestTrainB.append(result_train)\n",
        "      bestExpressionTrainB.append(hof)\n",
        "#Train(30)\n",
        "\n",
        "bestTestB = []\n",
        "bestExpressionTestB = []\n",
        "def Test(n):\n",
        "  for i in range(n):\n",
        "      hof = Config2()[0]\n",
        "      func = toolbox.compile(expr=hof)\n",
        "      result_test = sum(bool(func(*customer[:13])) is bool(customer[13]) for customer in test) / len(test)\n",
        "      bestTestB.append(result_test)\n",
        "      bestExpressionTestB.append(hof)\n",
        "  \n",
        "#Test(30)"
      ]
    },
    {
      "cell_type": "code",
      "execution_count": null,
      "metadata": {
        "colab": {
          "background_save": true
        },
        "id": "wtnDkOzF02RP",
        "outputId": "6db11140-f226-4c32-d3db-b994f47c030a"
      },
      "outputs": [
        {
          "name": "stdout",
          "output_type": "stream",
          "text": [
            "minimo:  0.73150623885918\n",
            "maximo:  0.7702762923351159\n",
            "média:  0.748165478312537\n",
            "desvio padrão:  0.013320207531033558\n",
            "o maior valor encontrado nas 30 iterações foi 0.7702762923351159\n",
            "a melhor expressão encontrada:  lt(mul(if_then_else(eq(sub(IN0, IN1), protectedDiv(IN1, IN0)), mul(if_then_else(False, IN1, IN1), sub(IN2, IN2)), protectedDiv(mul(IN0, IN0), sub(IN2, IN0))), protectedDiv(add(protectedDiv(IN1, IN2), mul(IN2, IN2)), sub(sub(IN2, IN1), sub(IN0, IN1)))), if_then_else(or_(and_(and_(IN3, IN9), and_(IN8, IN6)), IN9), sub(protectedDiv(mul(IN1, IN1), IN1), protectedDiv(if_then_else(IN6, mul(add(IN1, IN1), protectedDiv(IN2, IN2)), IN2), sub(sub(IN2, IN2), IN0))), add(add(add(IN1, IN0), sub(IN0, IN2)), protectedDiv(IN2, if_then_else(IN5, IN0, IN1)))))\n"
          ]
        },
        {
          "data": {
            "image/png": "[encoded data removed]",
            "text/plain": [
              "<Figure size 432x288 with 1 Axes>"
            ]
          },
          "metadata": {},
          "output_type": "display_data"
        }
      ],
      "source": [
        "Train(30)\n",
        "indexMax = np.argmax(bestTrainB)\n",
        "\n",
        "print(\"minimo: \", np.min(bestTrainB))\n",
        "print(\"maximo: \", np.max(bestTrainB))\n",
        "print(\"média: \",np.mean(bestTrainB))\n",
        "print(\"desvio padrão: \", np.std(bestTrainB))\n",
        "print(f'o maior valor encontrado nas 30 iterações foi {bestTrainB[indexMax]}')\n",
        "print('a melhor expressão encontrada: ', bestExpressionTrainB[indexMax])\n",
        "\n",
        "\n",
        "plt.clf()\n",
        "plt.boxplot(bestTrainB)\n",
        "plt.title(\"Gráfico configuração B com Train\")\n",
        "\n",
        "plt.savefig(\"Gráfico B\", format='png')"
      ]
    },
    {
      "cell_type": "code",
      "execution_count": null,
      "metadata": {
        "id": "pDcmkX8IVSkx"
      },
      "outputs": [],
      "source": [
        "Test(2)\n",
        "indexMax = np.argmax(bestTestB)\n",
        "\n",
        "print(\"minimo: \", np.min(bestTestB))\n",
        "print(\"maximo: \", np.max(bestTestB))\n",
        "print(\"média: \",np.mean(bestTestB))\n",
        "print(\"desvio padrão: \", np.std(bestTestB))\n",
        "print(f'o maior valor encontrado nas 30 iterações foi {bestTestB[indexMax]}')\n",
        "print('a melhor expressão encontrada: ', bestExpressionTestB[indexMax])\n",
        "\n",
        "\n",
        "plt.clf()\n",
        "plt.boxplot(bestTestB)\n",
        "plt.title(\"Gráfico configuração B com Test\")\n",
        "\n",
        "plt.savefig(\"Gráfico B\", format='png')"
      ]
    },
    {
      "cell_type": "markdown",
      "metadata": {
        "id": "ooD7Bl8v8Uft"
      },
      "source": [
        "###Melhores resultados"
      ]
    }
  ],
  "metadata": {
    "colab": {
      "collapsed_sections": [],
      "name": "TP3Meta.ipynb",
      "provenance": [],
      "include_colab_link": true
    },
    "kernelspec": {
      "display_name": "Python 3",
      "name": "python3"
    },
    "language_info": {
      "name": "python"
    }
  },
  "nbformat": 4,
  "nbformat_minor": 0
}